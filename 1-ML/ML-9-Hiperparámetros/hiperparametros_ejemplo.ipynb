{
 "cells": [
  {
   "cell_type": "code",
   "execution_count": 1,
   "id": "9b84782a",
   "metadata": {},
   "outputs": [],
   "source": [
    "import pandas as pd\n",
    "from sklearn.datasets import load_iris\n"
   ]
  },
  {
   "cell_type": "code",
   "execution_count": 2,
   "id": "c726d9f8",
   "metadata": {},
   "outputs": [],
   "source": [
    "iris = load_iris()\n"
   ]
  },
  {
   "cell_type": "code",
   "execution_count": 19,
   "id": "c449ce77",
   "metadata": {},
   "outputs": [],
   "source": [
    "from sklearn.datasets import load_digits\n",
    "digits = load_digits()"
   ]
  },
  {
   "cell_type": "code",
   "execution_count": 20,
   "id": "d48c5ca6",
   "metadata": {},
   "outputs": [],
   "source": [
    "X = digits.data\n",
    "y = digits.target"
   ]
  },
  {
   "cell_type": "code",
   "execution_count": 3,
   "id": "e61efd23",
   "metadata": {},
   "outputs": [],
   "source": [
    "X = iris.data\n",
    "y = iris.target"
   ]
  },
  {
   "cell_type": "code",
   "execution_count": 21,
   "id": "7445ad2a",
   "metadata": {},
   "outputs": [],
   "source": [
    "from sklearn.model_selection import train_test_split\n",
    "X_train, X_test, y_train, y_test = train_test_split(X,y, test_size=0.3, random_state=5)"
   ]
  },
  {
   "cell_type": "code",
   "execution_count": 22,
   "id": "f5879115",
   "metadata": {},
   "outputs": [
    {
     "data": {
      "text/plain": [
       "0.3962962962962963"
      ]
     },
     "execution_count": 22,
     "metadata": {},
     "output_type": "execute_result"
    }
   ],
   "source": [
    "import sklearn.svm as svm\n",
    "\n",
    "model = svm.SVC(kernel='rbf',C=30,gamma='auto')\n",
    "model.fit(X_train,y_train)\n",
    "model.score(X_test, y_test)"
   ]
  },
  {
   "cell_type": "code",
   "execution_count": 23,
   "id": "cb861439",
   "metadata": {},
   "outputs": [
    {
     "data": {
      "text/plain": [
       "array([0.96388889, 0.91944444, 0.96657382, 0.9637883 , 0.92479109])"
      ]
     },
     "execution_count": 23,
     "metadata": {},
     "output_type": "execute_result"
    }
   ],
   "source": [
    "from sklearn.model_selection import cross_val_score\n",
    "\n",
    "cross_val_score(svm.SVC(kernel='linear', C=10), X, y, cv = 5)\n"
   ]
  },
  {
   "cell_type": "code",
   "execution_count": 24,
   "id": "8a963746",
   "metadata": {},
   "outputs": [
    {
     "data": {
      "text/plain": [
       "array([0.98055556, 0.95833333, 0.98328691, 0.98885794, 0.95821727])"
      ]
     },
     "execution_count": 24,
     "metadata": {},
     "output_type": "execute_result"
    }
   ],
   "source": [
    "cross_val_score(svm.SVC(kernel='rbf', C=10), X, y, cv = 5)"
   ]
  },
  {
   "cell_type": "code",
   "execution_count": 25,
   "id": "4bd0a112",
   "metadata": {},
   "outputs": [
    {
     "data": {
      "text/plain": [
       "array([0.96388889, 0.91944444, 0.96657382, 0.9637883 , 0.92479109])"
      ]
     },
     "execution_count": 25,
     "metadata": {},
     "output_type": "execute_result"
    }
   ],
   "source": [
    "cross_val_score(svm.SVC(kernel='linear', C=20), X, y, cv = 5)"
   ]
  },
  {
   "cell_type": "code",
   "execution_count": 26,
   "id": "543eadac",
   "metadata": {},
   "outputs": [
    {
     "data": {
      "text/plain": [
       "{'rbf_1': 0.448545341999381,\n",
       " 'rbf_10': 0.47636645001547506,\n",
       " 'rbf_20': 0.47636645001547506,\n",
       " 'linear_1': 0.9476973073351903,\n",
       " 'linear_10': 0.9476973073351903,\n",
       " 'linear_20': 0.9476973073351903}"
      ]
     },
     "execution_count": 26,
     "metadata": {},
     "output_type": "execute_result"
    }
   ],
   "source": [
    "import numpy as np\n",
    "\n",
    "kernels = ['rbf', 'linear']\n",
    "C = [1,10,20]\n",
    "avg_scores = {}\n",
    "for kval in kernels:\n",
    "    for cval in C:\n",
    "        cv_scores = cross_val_score(svm.SVC(kernel=kval,C=cval,gamma='auto'),X, y, cv=5)\n",
    "        avg_scores[kval + '_' + str(cval)] = np.average(cv_scores)\n",
    "avg_scores\n"
   ]
  },
  {
   "cell_type": "code",
   "execution_count": 28,
   "id": "c1a76c4a",
   "metadata": {},
   "outputs": [
    {
     "data": {
      "text/html": [
       "<div>\n",
       "<style scoped>\n",
       "    .dataframe tbody tr th:only-of-type {\n",
       "        vertical-align: middle;\n",
       "    }\n",
       "\n",
       "    .dataframe tbody tr th {\n",
       "        vertical-align: top;\n",
       "    }\n",
       "\n",
       "    .dataframe thead th {\n",
       "        text-align: right;\n",
       "    }\n",
       "</style>\n",
       "<table border=\"1\" class=\"dataframe\">\n",
       "  <thead>\n",
       "    <tr style=\"text-align: right;\">\n",
       "      <th></th>\n",
       "      <th>mean_fit_time</th>\n",
       "      <th>std_fit_time</th>\n",
       "      <th>mean_score_time</th>\n",
       "      <th>std_score_time</th>\n",
       "      <th>param_C</th>\n",
       "      <th>param_kernel</th>\n",
       "      <th>params</th>\n",
       "      <th>split0_test_score</th>\n",
       "      <th>split1_test_score</th>\n",
       "      <th>split2_test_score</th>\n",
       "      <th>split3_test_score</th>\n",
       "      <th>split4_test_score</th>\n",
       "      <th>mean_test_score</th>\n",
       "      <th>std_test_score</th>\n",
       "      <th>rank_test_score</th>\n",
       "    </tr>\n",
       "  </thead>\n",
       "  <tbody>\n",
       "    <tr>\n",
       "      <th>0</th>\n",
       "      <td>0.222537</td>\n",
       "      <td>0.003034</td>\n",
       "      <td>0.054054</td>\n",
       "      <td>0.000425</td>\n",
       "      <td>1</td>\n",
       "      <td>rbf</td>\n",
       "      <td>{'C': 1, 'kernel': 'rbf'}</td>\n",
       "      <td>0.411111</td>\n",
       "      <td>0.450000</td>\n",
       "      <td>0.454039</td>\n",
       "      <td>0.448468</td>\n",
       "      <td>0.479109</td>\n",
       "      <td>0.448545</td>\n",
       "      <td>0.021761</td>\n",
       "      <td>6</td>\n",
       "    </tr>\n",
       "    <tr>\n",
       "      <th>1</th>\n",
       "      <td>0.021506</td>\n",
       "      <td>0.001185</td>\n",
       "      <td>0.005118</td>\n",
       "      <td>0.000058</td>\n",
       "      <td>1</td>\n",
       "      <td>linear</td>\n",
       "      <td>{'C': 1, 'kernel': 'linear'}</td>\n",
       "      <td>0.963889</td>\n",
       "      <td>0.919444</td>\n",
       "      <td>0.966574</td>\n",
       "      <td>0.963788</td>\n",
       "      <td>0.924791</td>\n",
       "      <td>0.947697</td>\n",
       "      <td>0.020978</td>\n",
       "      <td>1</td>\n",
       "    </tr>\n",
       "    <tr>\n",
       "      <th>2</th>\n",
       "      <td>0.222893</td>\n",
       "      <td>0.006026</td>\n",
       "      <td>0.055337</td>\n",
       "      <td>0.002456</td>\n",
       "      <td>10</td>\n",
       "      <td>rbf</td>\n",
       "      <td>{'C': 10, 'kernel': 'rbf'}</td>\n",
       "      <td>0.452778</td>\n",
       "      <td>0.469444</td>\n",
       "      <td>0.479109</td>\n",
       "      <td>0.479109</td>\n",
       "      <td>0.501393</td>\n",
       "      <td>0.476366</td>\n",
       "      <td>0.015784</td>\n",
       "      <td>4</td>\n",
       "    </tr>\n",
       "    <tr>\n",
       "      <th>3</th>\n",
       "      <td>0.022582</td>\n",
       "      <td>0.000789</td>\n",
       "      <td>0.005345</td>\n",
       "      <td>0.000409</td>\n",
       "      <td>10</td>\n",
       "      <td>linear</td>\n",
       "      <td>{'C': 10, 'kernel': 'linear'}</td>\n",
       "      <td>0.963889</td>\n",
       "      <td>0.919444</td>\n",
       "      <td>0.966574</td>\n",
       "      <td>0.963788</td>\n",
       "      <td>0.924791</td>\n",
       "      <td>0.947697</td>\n",
       "      <td>0.020978</td>\n",
       "      <td>1</td>\n",
       "    </tr>\n",
       "    <tr>\n",
       "      <th>4</th>\n",
       "      <td>0.233813</td>\n",
       "      <td>0.008519</td>\n",
       "      <td>0.057314</td>\n",
       "      <td>0.001399</td>\n",
       "      <td>20</td>\n",
       "      <td>rbf</td>\n",
       "      <td>{'C': 20, 'kernel': 'rbf'}</td>\n",
       "      <td>0.452778</td>\n",
       "      <td>0.469444</td>\n",
       "      <td>0.479109</td>\n",
       "      <td>0.479109</td>\n",
       "      <td>0.501393</td>\n",
       "      <td>0.476366</td>\n",
       "      <td>0.015784</td>\n",
       "      <td>4</td>\n",
       "    </tr>\n",
       "    <tr>\n",
       "      <th>5</th>\n",
       "      <td>0.023401</td>\n",
       "      <td>0.002059</td>\n",
       "      <td>0.005434</td>\n",
       "      <td>0.000465</td>\n",
       "      <td>20</td>\n",
       "      <td>linear</td>\n",
       "      <td>{'C': 20, 'kernel': 'linear'}</td>\n",
       "      <td>0.963889</td>\n",
       "      <td>0.919444</td>\n",
       "      <td>0.966574</td>\n",
       "      <td>0.963788</td>\n",
       "      <td>0.924791</td>\n",
       "      <td>0.947697</td>\n",
       "      <td>0.020978</td>\n",
       "      <td>1</td>\n",
       "    </tr>\n",
       "  </tbody>\n",
       "</table>\n",
       "</div>"
      ],
      "text/plain": [
       "   mean_fit_time  std_fit_time  mean_score_time  std_score_time param_C  \\\n",
       "0       0.222537      0.003034         0.054054        0.000425       1   \n",
       "1       0.021506      0.001185         0.005118        0.000058       1   \n",
       "2       0.222893      0.006026         0.055337        0.002456      10   \n",
       "3       0.022582      0.000789         0.005345        0.000409      10   \n",
       "4       0.233813      0.008519         0.057314        0.001399      20   \n",
       "5       0.023401      0.002059         0.005434        0.000465      20   \n",
       "\n",
       "  param_kernel                         params  split0_test_score  \\\n",
       "0          rbf      {'C': 1, 'kernel': 'rbf'}           0.411111   \n",
       "1       linear   {'C': 1, 'kernel': 'linear'}           0.963889   \n",
       "2          rbf     {'C': 10, 'kernel': 'rbf'}           0.452778   \n",
       "3       linear  {'C': 10, 'kernel': 'linear'}           0.963889   \n",
       "4          rbf     {'C': 20, 'kernel': 'rbf'}           0.452778   \n",
       "5       linear  {'C': 20, 'kernel': 'linear'}           0.963889   \n",
       "\n",
       "   split1_test_score  split2_test_score  split3_test_score  split4_test_score  \\\n",
       "0           0.450000           0.454039           0.448468           0.479109   \n",
       "1           0.919444           0.966574           0.963788           0.924791   \n",
       "2           0.469444           0.479109           0.479109           0.501393   \n",
       "3           0.919444           0.966574           0.963788           0.924791   \n",
       "4           0.469444           0.479109           0.479109           0.501393   \n",
       "5           0.919444           0.966574           0.963788           0.924791   \n",
       "\n",
       "   mean_test_score  std_test_score  rank_test_score  \n",
       "0         0.448545        0.021761                6  \n",
       "1         0.947697        0.020978                1  \n",
       "2         0.476366        0.015784                4  \n",
       "3         0.947697        0.020978                1  \n",
       "4         0.476366        0.015784                4  \n",
       "5         0.947697        0.020978                1  "
      ]
     },
     "execution_count": 28,
     "metadata": {},
     "output_type": "execute_result"
    }
   ],
   "source": [
    "from sklearn.model_selection import GridSearchCV\n",
    "\n",
    "clf = GridSearchCV(svm.SVC(gamma='auto'), {'C': [1,10,20], 'kernel': ['rbf','linear']}, cv=5, return_train_score=False)\n",
    "clf.fit(X, y)\n",
    "\n",
    "clf.cv_results_\n",
    "\n",
    "df = pd.DataFrame(clf.cv_results_)\n",
    "df"
   ]
  },
  {
   "cell_type": "code",
   "execution_count": 29,
   "id": "08e730a5",
   "metadata": {},
   "outputs": [
    {
     "data": {
      "text/plain": [
       "{'C': 1, 'kernel': 'linear'}"
      ]
     },
     "execution_count": 29,
     "metadata": {},
     "output_type": "execute_result"
    }
   ],
   "source": [
    "clf.best_params_"
   ]
  },
  {
   "cell_type": "code",
   "execution_count": 30,
   "id": "b087318a",
   "metadata": {},
   "outputs": [
    {
     "data": {
      "text/plain": [
       "0.9476973073351903"
      ]
     },
     "execution_count": 30,
     "metadata": {},
     "output_type": "execute_result"
    }
   ],
   "source": [
    "clf.best_score_"
   ]
  },
  {
   "cell_type": "code",
   "execution_count": 31,
   "id": "5b8a8729",
   "metadata": {},
   "outputs": [],
   "source": [
    "from sklearn import svm\n",
    "from sklearn.ensemble import RandomForestClassifier\n",
    "from sklearn.linear_model import LogisticRegression\n",
    "model_params = {\n",
    " 'svm': {\n",
    " 'model': svm.SVC(gamma='auto'),\n",
    " 'params' : {\n",
    " 'C': [1,10,20],\n",
    " 'kernel': ['rbf','linear']\n",
    " }\n",
    " },\n",
    " 'random_forest': {\n",
    " 'model': RandomForestClassifier(),\n",
    " 'params' : {\n",
    " 'n_estimators': [1,5,10]\n",
    " }\n",
    " },\n",
    " 'logistic_regression' : {\n",
    " 'model': LogisticRegression(solver='liblinear',multi_class='auto'),\n",
    " 'params': {\n",
    " 'C': [1,5,10]\n",
    " }\n",
    " }\n",
    "}"
   ]
  },
  {
   "cell_type": "code",
   "execution_count": 33,
   "id": "723ec600",
   "metadata": {},
   "outputs": [
    {
     "data": {
      "text/html": [
       "<div>\n",
       "<style scoped>\n",
       "    .dataframe tbody tr th:only-of-type {\n",
       "        vertical-align: middle;\n",
       "    }\n",
       "\n",
       "    .dataframe tbody tr th {\n",
       "        vertical-align: top;\n",
       "    }\n",
       "\n",
       "    .dataframe thead th {\n",
       "        text-align: right;\n",
       "    }\n",
       "</style>\n",
       "<table border=\"1\" class=\"dataframe\">\n",
       "  <thead>\n",
       "    <tr style=\"text-align: right;\">\n",
       "      <th></th>\n",
       "      <th>model</th>\n",
       "      <th>best_score</th>\n",
       "      <th>best_params</th>\n",
       "    </tr>\n",
       "  </thead>\n",
       "  <tbody>\n",
       "    <tr>\n",
       "      <th>0</th>\n",
       "      <td>svm</td>\n",
       "      <td>0.947697</td>\n",
       "      <td>{'C': 1, 'kernel': 'linear'}</td>\n",
       "    </tr>\n",
       "    <tr>\n",
       "      <th>1</th>\n",
       "      <td>random_forest</td>\n",
       "      <td>0.888743</td>\n",
       "      <td>{'n_estimators': 10}</td>\n",
       "    </tr>\n",
       "    <tr>\n",
       "      <th>2</th>\n",
       "      <td>logistic_regression</td>\n",
       "      <td>0.922114</td>\n",
       "      <td>{'C': 1}</td>\n",
       "    </tr>\n",
       "  </tbody>\n",
       "</table>\n",
       "</div>"
      ],
      "text/plain": [
       "                 model  best_score                   best_params\n",
       "0                  svm    0.947697  {'C': 1, 'kernel': 'linear'}\n",
       "1        random_forest    0.888743          {'n_estimators': 10}\n",
       "2  logistic_regression    0.922114                      {'C': 1}"
      ]
     },
     "execution_count": 33,
     "metadata": {},
     "output_type": "execute_result"
    }
   ],
   "source": [
    "scores = []\n",
    "for model_name, mp in model_params.items():\n",
    " clf = GridSearchCV(mp['model'], mp['params'], cv=5, return_train_score=False)\n",
    " clf.fit(X, y)\n",
    " scores.append({\n",
    " 'model': model_name,\n",
    " 'best_score': clf.best_score_,\n",
    " 'best_params': clf.best_params_\n",
    " })\n",
    "\n",
    "df = pd.DataFrame(scores,columns=['model','best_score','best_params'])\n",
    "df"
   ]
  }
 ],
 "metadata": {
  "kernelspec": {
   "display_name": "Python 3 (ipykernel)",
   "language": "python",
   "name": "python3"
  },
  "language_info": {
   "codemirror_mode": {
    "name": "ipython",
    "version": 3
   },
   "file_extension": ".py",
   "mimetype": "text/x-python",
   "name": "python",
   "nbconvert_exporter": "python",
   "pygments_lexer": "ipython3",
   "version": "3.9.12"
  }
 },
 "nbformat": 4,
 "nbformat_minor": 5
}
